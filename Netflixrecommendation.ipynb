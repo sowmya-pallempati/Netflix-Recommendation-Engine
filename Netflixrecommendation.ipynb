{
 "cells": [
  {
   "cell_type": "markdown",
   "id": "f8491d35",
   "metadata": {},
   "source": [
    "# Netflix Recommendation Engine"
   ]
  },
  {
   "cell_type": "code",
   "execution_count": 2,
   "id": "f54c2794",
   "metadata": {},
   "outputs": [],
   "source": [
    "import numpy as np"
   ]
  },
  {
   "cell_type": "code",
   "execution_count": 3,
   "id": "f619c1c0",
   "metadata": {},
   "outputs": [],
   "source": [
    "import pandas as pd"
   ]
  },
  {
   "cell_type": "code",
   "execution_count": 4,
   "id": "da57949e",
   "metadata": {},
   "outputs": [],
   "source": [
    "from sklearn.feature_extraction import text"
   ]
  },
  {
   "cell_type": "code",
   "execution_count": 5,
   "id": "d17207d9",
   "metadata": {},
   "outputs": [],
   "source": [
    "from sklearn.metrics.pairwise import cosine_similarity"
   ]
  },
  {
   "cell_type": "code",
   "execution_count": 8,
   "id": "fbf8eeb9",
   "metadata": {},
   "outputs": [
    {
     "name": "stdout",
     "output_type": "stream",
     "text": [
      "                                Show Id                          Title  \\\n",
      "0  cc1b6ed9-cf9e-4057-8303-34577fb54477                       (Un)Well   \n",
      "1  e2ef4e91-fb25-42ab-b485-be8e3b23dedb                         #Alive   \n",
      "2  b01b73b7-81f6-47a7-86d8-acb63080d525  #AnneFrank - Parallel Stories   \n",
      "3  b6611af0-f53c-4a08-9ffa-9716dc57eb9c                       #blackAF   \n",
      "4  7f2d4170-bab8-4d75-adc2-197f7124c070               #cats_the_mewvie   \n",
      "\n",
      "                                         Description  \\\n",
      "0  This docuseries takes a deep dive into the luc...   \n",
      "1  As a grisly virus rampages a city, a lone man ...   \n",
      "2  Through her diary, Anne Frank's story is retol...   \n",
      "3  Kenya Barris and his family navigate relations...   \n",
      "4  This pawesome documentary explores how our fel...   \n",
      "\n",
      "                      Director  \\\n",
      "0                          NaN   \n",
      "1                       Cho Il   \n",
      "2  Sabina Fedeli, Anna Migotto   \n",
      "3                          NaN   \n",
      "4             Michael Margolis   \n",
      "\n",
      "                                           Genres  \\\n",
      "0                                      Reality TV   \n",
      "1  Horror Movies, International Movies, Thrillers   \n",
      "2             Documentaries, International Movies   \n",
      "3                                     TV Comedies   \n",
      "4             Documentaries, International Movies   \n",
      "\n",
      "                                                Cast Production Country  \\\n",
      "0                                                NaN      United States   \n",
      "1                           Yoo Ah-in, Park Shin-hye        South Korea   \n",
      "2                        Helen Mirren, Gengher Gatti              Italy   \n",
      "3  Kenya Barris, Rashida Jones, Iman Benson, Genn...      United States   \n",
      "4                                                NaN             Canada   \n",
      "\n",
      "   Release Date Rating  Duration Imdb Score Content Type         Date Added  \n",
      "0        2020.0  TV-MA  1 Season     6.6/10      TV Show                NaN  \n",
      "1        2020.0  TV-MA    99 min     6.2/10        Movie  September 8, 2020  \n",
      "2        2019.0  TV-14    95 min     6.4/10        Movie       July 1, 2020  \n",
      "3        2020.0  TV-MA  1 Season     6.6/10      TV Show                NaN  \n",
      "4        2020.0  TV-14    90 min     5.1/10        Movie   February 5, 2020  \n"
     ]
    }
   ],
   "source": [
    "data = pd.read_csv(\"Data set/netflixData.csv\")\n",
    "print(data.head())"
   ]
  },
  {
   "cell_type": "code",
   "execution_count": 9,
   "id": "c5717409",
   "metadata": {},
   "outputs": [
    {
     "name": "stdout",
     "output_type": "stream",
     "text": [
      "Show Id                  0\n",
      "Title                    0\n",
      "Description              0\n",
      "Director              2064\n",
      "Genres                   0\n",
      "Cast                   530\n",
      "Production Country     559\n",
      "Release Date             3\n",
      "Rating                   4\n",
      "Duration                 3\n",
      "Imdb Score             608\n",
      "Content Type             0\n",
      "Date Added            1335\n",
      "dtype: int64\n"
     ]
    }
   ],
   "source": [
    "#To check the number of null values in each column\n",
    "\n",
    "print(data.isnull().sum())"
   ]
  },
  {
   "cell_type": "code",
   "execution_count": 10,
   "id": "a3b18d85",
   "metadata": {},
   "outputs": [
    {
     "name": "stdout",
     "output_type": "stream",
     "text": [
      "5967\n"
     ]
    }
   ],
   "source": [
    "#Checking total no of rows\n",
    "print(len(data))"
   ]
  },
  {
   "cell_type": "code",
   "execution_count": 29,
   "id": "54c95816",
   "metadata": {},
   "outputs": [
    {
     "data": {
      "text/html": [
       "<div>\n",
       "<style scoped>\n",
       "    .dataframe tbody tr th:only-of-type {\n",
       "        vertical-align: middle;\n",
       "    }\n",
       "\n",
       "    .dataframe tbody tr th {\n",
       "        vertical-align: top;\n",
       "    }\n",
       "\n",
       "    .dataframe thead th {\n",
       "        text-align: right;\n",
       "    }\n",
       "</style>\n",
       "<table border=\"1\" class=\"dataframe\">\n",
       "  <thead>\n",
       "    <tr style=\"text-align: right;\">\n",
       "      <th></th>\n",
       "      <th>Title</th>\n",
       "      <th>Description</th>\n",
       "      <th>Content Type</th>\n",
       "      <th>Genres</th>\n",
       "    </tr>\n",
       "  </thead>\n",
       "  <tbody>\n",
       "    <tr>\n",
       "      <th>0</th>\n",
       "      <td>(Un)Well</td>\n",
       "      <td>This docuseries takes a deep dive into the luc...</td>\n",
       "      <td>TV Show</td>\n",
       "      <td>Reality TV</td>\n",
       "    </tr>\n",
       "    <tr>\n",
       "      <th>1</th>\n",
       "      <td>#Alive</td>\n",
       "      <td>As a grisly virus rampages a city, a lone man ...</td>\n",
       "      <td>Movie</td>\n",
       "      <td>Horror Movies, International Movies, Thrillers</td>\n",
       "    </tr>\n",
       "    <tr>\n",
       "      <th>2</th>\n",
       "      <td>#AnneFrank - Parallel Stories</td>\n",
       "      <td>Through her diary, Anne Frank's story is retol...</td>\n",
       "      <td>Movie</td>\n",
       "      <td>Documentaries, International Movies</td>\n",
       "    </tr>\n",
       "    <tr>\n",
       "      <th>3</th>\n",
       "      <td>#blackAF</td>\n",
       "      <td>Kenya Barris and his family navigate relations...</td>\n",
       "      <td>TV Show</td>\n",
       "      <td>TV Comedies</td>\n",
       "    </tr>\n",
       "    <tr>\n",
       "      <th>4</th>\n",
       "      <td>#cats_the_mewvie</td>\n",
       "      <td>This pawesome documentary explores how our fel...</td>\n",
       "      <td>Movie</td>\n",
       "      <td>Documentaries, International Movies</td>\n",
       "    </tr>\n",
       "    <tr>\n",
       "      <th>5</th>\n",
       "      <td>#FriendButMarried</td>\n",
       "      <td>Pining for his high school crush for years, a ...</td>\n",
       "      <td>Movie</td>\n",
       "      <td>Dramas, International Movies, Romantic Movies</td>\n",
       "    </tr>\n",
       "    <tr>\n",
       "      <th>6</th>\n",
       "      <td>#FriendButMarried 2</td>\n",
       "      <td>As Ayu and Ditto finally transition from best ...</td>\n",
       "      <td>Movie</td>\n",
       "      <td>Dramas, International Movies, Romantic Movies</td>\n",
       "    </tr>\n",
       "    <tr>\n",
       "      <th>7</th>\n",
       "      <td>#realityhigh</td>\n",
       "      <td>When nerdy high schooler Dani finally attracts...</td>\n",
       "      <td>Movie</td>\n",
       "      <td>Comedies</td>\n",
       "    </tr>\n",
       "    <tr>\n",
       "      <th>8</th>\n",
       "      <td>#Rucker50</td>\n",
       "      <td>This documentary celebrates the 50th anniversa...</td>\n",
       "      <td>Movie</td>\n",
       "      <td>Documentaries, Sports Movies</td>\n",
       "    </tr>\n",
       "    <tr>\n",
       "      <th>9</th>\n",
       "      <td>#Selfie</td>\n",
       "      <td>Two days before their final exams, three teen ...</td>\n",
       "      <td>Movie</td>\n",
       "      <td>Comedies, Dramas, International Movies</td>\n",
       "    </tr>\n",
       "  </tbody>\n",
       "</table>\n",
       "</div>"
      ],
      "text/plain": [
       "                           Title  \\\n",
       "0                       (Un)Well   \n",
       "1                         #Alive   \n",
       "2  #AnneFrank - Parallel Stories   \n",
       "3                       #blackAF   \n",
       "4               #cats_the_mewvie   \n",
       "5              #FriendButMarried   \n",
       "6            #FriendButMarried 2   \n",
       "7                   #realityhigh   \n",
       "8                      #Rucker50   \n",
       "9                        #Selfie   \n",
       "\n",
       "                                         Description Content Type  \\\n",
       "0  This docuseries takes a deep dive into the luc...      TV Show   \n",
       "1  As a grisly virus rampages a city, a lone man ...        Movie   \n",
       "2  Through her diary, Anne Frank's story is retol...        Movie   \n",
       "3  Kenya Barris and his family navigate relations...      TV Show   \n",
       "4  This pawesome documentary explores how our fel...        Movie   \n",
       "5  Pining for his high school crush for years, a ...        Movie   \n",
       "6  As Ayu and Ditto finally transition from best ...        Movie   \n",
       "7  When nerdy high schooler Dani finally attracts...        Movie   \n",
       "8  This documentary celebrates the 50th anniversa...        Movie   \n",
       "9  Two days before their final exams, three teen ...        Movie   \n",
       "\n",
       "                                           Genres  \n",
       "0                                      Reality TV  \n",
       "1  Horror Movies, International Movies, Thrillers  \n",
       "2             Documentaries, International Movies  \n",
       "3                                     TV Comedies  \n",
       "4             Documentaries, International Movies  \n",
       "5   Dramas, International Movies, Romantic Movies  \n",
       "6   Dramas, International Movies, Romantic Movies  \n",
       "7                                        Comedies  \n",
       "8                    Documentaries, Sports Movies  \n",
       "9          Comedies, Dramas, International Movies  "
      ]
     },
     "execution_count": 29,
     "metadata": {},
     "output_type": "execute_result"
    }
   ],
   "source": [
    "#considering only required columns:\n",
    "modified_data = data[[\"Title\",\"Description\",\"Content Type\", \"Genres\"]]\n",
    "\n",
    "modified_data.head(10)"
   ]
  },
  {
   "cell_type": "code",
   "execution_count": 34,
   "id": "e4485745",
   "metadata": {},
   "outputs": [
    {
     "data": {
      "text/plain": [
       "3903"
      ]
     },
     "execution_count": 34,
     "metadata": {},
     "output_type": "execute_result"
    }
   ],
   "source": [
    "modified_data2 = data[[\"Title\",\"Description\",\"Content Type\", \"Genres\", \"Director\"]]\n",
    "modified_data2.head()\n",
    "drop_null= modified_data2.dropna()\n",
    "len(drop_null)"
   ]
  },
  {
   "cell_type": "code",
   "execution_count": 31,
   "id": "f9a51050",
   "metadata": {},
   "outputs": [
    {
     "name": "stdout",
     "output_type": "stream",
     "text": [
      "                              Title  \\\n",
      "0                          (Un)Well   \n",
      "1                            #Alive   \n",
      "2     #AnneFrank - Parallel Stories   \n",
      "3                          #blackAF   \n",
      "4                  #cats_the_mewvie   \n",
      "...                             ...   \n",
      "5962                      الف مبروك   \n",
      "5963                   دفعة القاهرة   \n",
      "5964                           海的儿子   \n",
      "5965                        반드시 잡는다   \n",
      "5966            최강전사 미니특공대 : 영웅의 탄생   \n",
      "\n",
      "                                            Description Content Type  \\\n",
      "0     This docuseries takes a deep dive into the luc...      TV Show   \n",
      "1     As a grisly virus rampages a city, a lone man ...        Movie   \n",
      "2     Through her diary, Anne Frank's story is retol...        Movie   \n",
      "3     Kenya Barris and his family navigate relations...      TV Show   \n",
      "4     This pawesome documentary explores how our fel...        Movie   \n",
      "...                                                 ...          ...   \n",
      "5962  On his wedding day, an arrogant, greedy accoun...        Movie   \n",
      "5963  A group of women leaves Kuwait to attend unive...      TV Show   \n",
      "5964  Two brothers start a new life in Singapore, wh...      TV Show   \n",
      "5965  After people in his town start turning up dead...        Movie   \n",
      "5966  Miniforce, a special task force of elite range...        Movie   \n",
      "\n",
      "                                              Genres  \n",
      "0                                         Reality TV  \n",
      "1     Horror Movies, International Movies, Thrillers  \n",
      "2                Documentaries, International Movies  \n",
      "3                                        TV Comedies  \n",
      "4                Documentaries, International Movies  \n",
      "...                                              ...  \n",
      "5962          Comedies, Dramas, International Movies  \n",
      "5963               International TV Shows, TV Dramas  \n",
      "5964               International TV Shows, TV Dramas  \n",
      "5965         Dramas, International Movies, Thrillers  \n",
      "5966                        Children & Family Movies  \n",
      "\n",
      "[5967 rows x 4 columns]\n"
     ]
    }
   ],
   "source": [
    "print(modified_data)"
   ]
  },
  {
   "cell_type": "code",
   "execution_count": 28,
   "id": "56bfa7e1",
   "metadata": {},
   "outputs": [
    {
     "data": {
      "text/plain": [
       "5967"
      ]
     },
     "execution_count": 28,
     "metadata": {},
     "output_type": "execute_result"
    }
   ],
   "source": [
    "#Dropping all null value rows\n",
    "modified_data.dropna()\n",
    "len(modified_data)\n"
   ]
  },
  {
   "cell_type": "code",
   "execution_count": 35,
   "id": "d655a53c",
   "metadata": {},
   "outputs": [
    {
     "name": "stderr",
     "output_type": "stream",
     "text": [
      "[nltk_data] Downloading package stopwords to C:\\Users\\Pallempati\n",
      "[nltk_data]     Sowmya\\AppData\\Roaming\\nltk_data...\n",
      "[nltk_data]   Unzipping corpora\\stopwords.zip.\n"
     ]
    }
   ],
   "source": [
    "#cleaning title column\n",
    "\n",
    "#imports\n",
    "\n",
    "import nltk #For processing text\n",
    "\n",
    "import re #regular expression for matching\n",
    "\n",
    "nltk.download('stopwords')\n",
    "\n",
    "from nltk.corpus import stopwords\n",
    "\n",
    "stemmer = nltk.SnowballStemmer(\"english\")  #Makes a sentence to its basic form EX: liked to like\n",
    "\n",
    "import string\n",
    "\n",
    "stopword=set(stopwords.words('english'))"
   ]
  },
  {
   "cell_type": "code",
   "execution_count": 36,
   "id": "3f5c6d95",
   "metadata": {},
   "outputs": [],
   "source": [
    "#\n",
    "def clean_text(text):\n",
    "    text = str(text).lower()\n",
    "    text = re.sub('\\[.*?\\]', '', text)\n",
    "    text = re.sub('https?://\\S+|www\\.\\S+', '', text)\n",
    "    text = re.sub('<.*?>+', '', text)\n",
    "    text = re.sub('[%s]' % re.escape(string.punctuation), '', text)\n",
    "    text = re.sub('\\n', '', text)\n",
    "    text = re.sub('\\w*\\d\\w*', '', text)\n",
    "    text = [word for word in text.split(' ') if word not in stopword]\n",
    "    text=\" \".join(text)\n",
    "    text = [stemmer.stem(word) for word in text.split(' ')]\n",
    "    text=\" \".join(text)\n",
    "    return text"
   ]
  },
  {
   "cell_type": "code",
   "execution_count": 38,
   "id": "c4924145",
   "metadata": {},
   "outputs": [
    {
     "name": "stdout",
     "output_type": "stream",
     "text": [
      "                              Title  \\\n",
      "0                          (Un)Well   \n",
      "1                            #Alive   \n",
      "2     #AnneFrank - Parallel Stories   \n",
      "3                          #blackAF   \n",
      "4                  #cats_the_mewvie   \n",
      "...                             ...   \n",
      "5962                      الف مبروك   \n",
      "5963                   دفعة القاهرة   \n",
      "5964                           海的儿子   \n",
      "5965                        반드시 잡는다   \n",
      "5966            최강전사 미니특공대 : 영웅의 탄생   \n",
      "\n",
      "                                            Description Content Type  \\\n",
      "0     This docuseries takes a deep dive into the luc...      TV Show   \n",
      "1     As a grisly virus rampages a city, a lone man ...        Movie   \n",
      "2     Through her diary, Anne Frank's story is retol...        Movie   \n",
      "3     Kenya Barris and his family navigate relations...      TV Show   \n",
      "4     This pawesome documentary explores how our fel...        Movie   \n",
      "...                                                 ...          ...   \n",
      "5962  On his wedding day, an arrogant, greedy accoun...        Movie   \n",
      "5963  A group of women leaves Kuwait to attend unive...      TV Show   \n",
      "5964  Two brothers start a new life in Singapore, wh...      TV Show   \n",
      "5965  After people in his town start turning up dead...        Movie   \n",
      "5966  Miniforce, a special task force of elite range...        Movie   \n",
      "\n",
      "                                              Genres  \n",
      "0                                         Reality TV  \n",
      "1     Horror Movies, International Movies, Thrillers  \n",
      "2                Documentaries, International Movies  \n",
      "3                                        TV Comedies  \n",
      "4                Documentaries, International Movies  \n",
      "...                                              ...  \n",
      "5962          Comedies, Dramas, International Movies  \n",
      "5963               International TV Shows, TV Dramas  \n",
      "5964               International TV Shows, TV Dramas  \n",
      "5965         Dramas, International Movies, Thrillers  \n",
      "5966                        Children & Family Movies  \n",
      "\n",
      "[5967 rows x 4 columns]\n"
     ]
    },
    {
     "data": {
      "text/plain": [
       "0                           unwel\n",
       "1                            aliv\n",
       "2       annefrank  parallel stori\n",
       "3                         blackaf\n",
       "4                    catsthemewvi\n",
       "                  ...            \n",
       "5962                    الف مبروك\n",
       "5963                 دفعة القاهرة\n",
       "5964                         海的儿子\n",
       "5965                      반드시 잡는다\n",
       "5966           최강전사 미니특공대  영웅의 탄생\n",
       "Name: Title, Length: 5967, dtype: object"
      ]
     },
     "execution_count": 38,
     "metadata": {},
     "output_type": "execute_result"
    }
   ],
   "source": [
    "print(modified_data)\n",
    "\n",
    "modified_data = modified_data[\"Title\"].apply(clean_text)\n",
    "modified_data"
   ]
  },
  {
   "cell_type": "code",
   "execution_count": null,
   "id": "cc331b6a",
   "metadata": {},
   "outputs": [],
   "source": []
  }
 ],
 "metadata": {
  "kernelspec": {
   "display_name": "Python 3 (ipykernel)",
   "language": "python",
   "name": "python3"
  },
  "language_info": {
   "codemirror_mode": {
    "name": "ipython",
    "version": 3
   },
   "file_extension": ".py",
   "mimetype": "text/x-python",
   "name": "python",
   "nbconvert_exporter": "python",
   "pygments_lexer": "ipython3",
   "version": "3.9.13"
  }
 },
 "nbformat": 4,
 "nbformat_minor": 5
}
