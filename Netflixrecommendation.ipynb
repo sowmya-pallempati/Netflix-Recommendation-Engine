{
 "cells": [
  {
   "cell_type": "markdown",
   "id": "f8491d35",
   "metadata": {},
   "source": [
    "# Netflix Recommendation Engine"
   ]
  },
  {
   "cell_type": "code",
   "execution_count": 2,
   "id": "7a7a17ca",
   "metadata": {},
   "outputs": [],
   "source": [
    "import numpy as np"
   ]
  },
  {
   "cell_type": "code",
   "execution_count": 3,
   "id": "1d7e2658",
   "metadata": {},
   "outputs": [],
   "source": [
    "import pandas as pd"
   ]
  },
  {
   "cell_type": "code",
   "execution_count": 4,
   "id": "0fe24938",
   "metadata": {},
   "outputs": [],
   "source": [
    "from sklearn.feature_extraction import text"
   ]
  },
  {
   "cell_type": "code",
   "execution_count": 5,
   "id": "f43b00dc",
   "metadata": {},
   "outputs": [],
   "source": [
    "from sklearn.metrics.pairwise import cosine_similarity"
   ]
  },
  {
   "cell_type": "code",
   "execution_count": 8,
   "id": "11b40558",
   "metadata": {},
   "outputs": [
    {
     "name": "stdout",
     "output_type": "stream",
     "text": [
      "                                Show Id                          Title  \\\n",
      "0  cc1b6ed9-cf9e-4057-8303-34577fb54477                       (Un)Well   \n",
      "1  e2ef4e91-fb25-42ab-b485-be8e3b23dedb                         #Alive   \n",
      "2  b01b73b7-81f6-47a7-86d8-acb63080d525  #AnneFrank - Parallel Stories   \n",
      "3  b6611af0-f53c-4a08-9ffa-9716dc57eb9c                       #blackAF   \n",
      "4  7f2d4170-bab8-4d75-adc2-197f7124c070               #cats_the_mewvie   \n",
      "\n",
      "                                         Description  \\\n",
      "0  This docuseries takes a deep dive into the luc...   \n",
      "1  As a grisly virus rampages a city, a lone man ...   \n",
      "2  Through her diary, Anne Frank's story is retol...   \n",
      "3  Kenya Barris and his family navigate relations...   \n",
      "4  This pawesome documentary explores how our fel...   \n",
      "\n",
      "                      Director  \\\n",
      "0                          NaN   \n",
      "1                       Cho Il   \n",
      "2  Sabina Fedeli, Anna Migotto   \n",
      "3                          NaN   \n",
      "4             Michael Margolis   \n",
      "\n",
      "                                           Genres  \\\n",
      "0                                      Reality TV   \n",
      "1  Horror Movies, International Movies, Thrillers   \n",
      "2             Documentaries, International Movies   \n",
      "3                                     TV Comedies   \n",
      "4             Documentaries, International Movies   \n",
      "\n",
      "                                                Cast Production Country  \\\n",
      "0                                                NaN      United States   \n",
      "1                           Yoo Ah-in, Park Shin-hye        South Korea   \n",
      "2                        Helen Mirren, Gengher Gatti              Italy   \n",
      "3  Kenya Barris, Rashida Jones, Iman Benson, Genn...      United States   \n",
      "4                                                NaN             Canada   \n",
      "\n",
      "   Release Date Rating  Duration Imdb Score Content Type         Date Added  \n",
      "0        2020.0  TV-MA  1 Season     6.6/10      TV Show                NaN  \n",
      "1        2020.0  TV-MA    99 min     6.2/10        Movie  September 8, 2020  \n",
      "2        2019.0  TV-14    95 min     6.4/10        Movie       July 1, 2020  \n",
      "3        2020.0  TV-MA  1 Season     6.6/10      TV Show                NaN  \n",
      "4        2020.0  TV-14    90 min     5.1/10        Movie   February 5, 2020  \n"
     ]
    }
   ],
   "source": [
    "data = pd.read_csv(\"Data set/netflixData.csv\")\n",
    "print(data.head())"
   ]
  },
  {
   "cell_type": "code",
   "execution_count": 9,
   "id": "f8c838d9",
   "metadata": {},
   "outputs": [
    {
     "name": "stdout",
     "output_type": "stream",
     "text": [
      "Show Id                  0\n",
      "Title                    0\n",
      "Description              0\n",
      "Director              2064\n",
      "Genres                   0\n",
      "Cast                   530\n",
      "Production Country     559\n",
      "Release Date             3\n",
      "Rating                   4\n",
      "Duration                 3\n",
      "Imdb Score             608\n",
      "Content Type             0\n",
      "Date Added            1335\n",
      "dtype: int64\n"
     ]
    }
   ],
   "source": [
    "#To check the number of null values in each column\n",
    "\n",
    "print(data.isnull().sum())"
   ]
  },
  {
   "cell_type": "code",
   "execution_count": null,
   "id": "0de8907c",
   "metadata": {},
   "outputs": [],
   "source": []
  }
 ],
 "metadata": {
  "kernelspec": {
   "display_name": "Python 3 (ipykernel)",
   "language": "python",
   "name": "python3"
  },
  "language_info": {
   "codemirror_mode": {
    "name": "ipython",
    "version": 3
   },
   "file_extension": ".py",
   "mimetype": "text/x-python",
   "name": "python",
   "nbconvert_exporter": "python",
   "pygments_lexer": "ipython3",
   "version": "3.9.13"
  }
 },
 "nbformat": 4,
 "nbformat_minor": 5
}
