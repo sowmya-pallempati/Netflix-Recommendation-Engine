{
 "cells": [
  {
   "cell_type": "markdown",
   "id": "f8491d35",
   "metadata": {},
   "source": [
    "# Netflix Recommendation Engine"
   ]
  },
  {
   "cell_type": "code",
   "execution_count": null,
   "id": "a28f8107",
   "metadata": {},
   "outputs": [],
   "source": [
    "import numpy as np"
   ]
  },
  {
   "cell_type": "code",
   "execution_count": null,
   "id": "a19412ba",
   "metadata": {},
   "outputs": [],
   "source": [
    "import pandas as pd"
   ]
  },
  {
   "cell_type": "code",
   "execution_count": null,
   "id": "003eac0d",
   "metadata": {},
   "outputs": [],
   "source": [
    "from sklearn.feature_extraction import text"
   ]
  },
  {
   "cell_type": "code",
   "execution_count": null,
   "id": "2e850e9f",
   "metadata": {},
   "outputs": [],
   "source": [
    "from sklearn.metrics.pairwise import cosine_similarity"
   ]
  },
  {
   "cell_type": "code",
   "execution_count": null,
   "id": "98758ea6",
   "metadata": {},
   "outputs": [],
   "source": [
    "data = pd.read_csv(\"Data set/netflixData.csv\")\n",
    "print(data.head())"
   ]
  },
  {
   "cell_type": "code",
   "execution_count": null,
   "id": "a71271a6",
   "metadata": {},
   "outputs": [],
   "source": [
    "#To check the number of null values in each column\n",
    "\n",
    "print(data.isnull().sum())"
   ]
  },
  {
   "cell_type": "code",
   "execution_count": null,
   "id": "aa90a68c",
   "metadata": {},
   "outputs": [],
   "source": [
    "#Checking total no of rows\n",
    "print(len(data))"
   ]
  },
  {
   "cell_type": "code",
   "execution_count": null,
   "id": "9274a543",
   "metadata": {},
   "outputs": [],
   "source": [
    "#considering only required columns:\n",
    "modified_data = data[[\"Title\",\"Description\",\"Content Type\", \"Genres\"]]\n",
    "\n",
    "modified_data.head(10)"
   ]
  },
  {
   "cell_type": "code",
   "execution_count": null,
   "id": "6f549293",
   "metadata": {},
   "outputs": [],
   "source": [
    "modified_data2 = data[[\"Title\",\"Description\",\"Content Type\", \"Genres\", \"Director\"]]\n",
    "modified_data2.head()\n",
    "drop_null= modified_data2.dropna()\n",
    "len(drop_null)"
   ]
  },
  {
   "cell_type": "code",
   "execution_count": null,
   "id": "a29be038",
   "metadata": {},
   "outputs": [],
   "source": [
    "print(modified_data)"
   ]
  },
  {
   "cell_type": "code",
   "execution_count": null,
   "id": "2880c4e3",
   "metadata": {},
   "outputs": [],
   "source": [
    "#Dropping all null value rows\n",
    "modified_data.dropna()\n",
    "len(modified_data)\n"
   ]
  },
  {
   "cell_type": "code",
   "execution_count": null,
   "id": "382fb90d",
   "metadata": {},
   "outputs": [],
   "source": [
    "#cleaning title column\n",
    "\n",
    "#imports\n",
    "\n",
    "import nltk #For processing text\n",
    "\n",
    "import re #regular expression for matching\n",
    "\n",
    "nltk.download('stopwords')\n",
    "\n",
    "from nltk.corpus import stopwords\n",
    "\n",
    "stemmer = nltk.SnowballStemmer(\"english\")  #Makes a sentence to its basic form EX: liked to like\n",
    "\n",
    "import string\n",
    "\n",
    "stopword=set(stopwords.words('english'))"
   ]
  },
  {
   "cell_type": "code",
   "execution_count": null,
   "id": "fc62126d",
   "metadata": {},
   "outputs": [],
   "source": [
    "#creating method for cleaning any text data\n",
    "def clean_text(text):\n",
    "    text = str(text).lower()\n",
    "    text = re.sub('\\[.*?\\]', '', text)\n",
    "    text = re.sub('https?://\\S+|www\\.\\S+', '', text)\n",
    "    text = re.sub('<.*?>+', '', text)\n",
    "    text = re.sub('[%s]' % re.escape(string.punctuation), '', text)\n",
    "    text = re.sub('\\n', '', text)\n",
    "    text = re.sub('\\w*\\d\\w*', '', text)\n",
    "    text = [word for word in text.split(' ') if word not in stopword]\n",
    "    text=\" \".join(text)\n",
    "    text = [stemmer.stem(word) for word in text.split(' ')]\n",
    "    text=\" \".join(text)\n",
    "    return text"
   ]
  },
  {
   "cell_type": "code",
   "execution_count": null,
   "id": "0db34dc2",
   "metadata": {},
   "outputs": [],
   "source": [
    "#Using above created method for cleaning title column\n",
    "print(modified_data)\n",
    "\n",
    "modified_data[\"Title\"] = modified_data[\"Title\"].apply(clean_text)\n",
    "modified_data[\"Title\"]"
   ]
  },
  {
   "cell_type": "code",
   "execution_count": null,
   "id": "9d6824ca",
   "metadata": {},
   "outputs": [],
   "source": [
    "print(modified_data.head())"
   ]
  },
  {
   "cell_type": "code",
   "execution_count": null,
   "id": "e34a3e1c",
   "metadata": {},
   "outputs": [],
   "source": [
    "# Using Genre column as a feature to recommend similar content to user\n",
    "\n",
    "#creating list for Genre column\n",
    "genre_list = modified_data[\"Genres\"].tolist()\n",
    "genre_list"
   ]
  },
  {
   "cell_type": "code",
   "execution_count": null,
   "id": "d0480d78",
   "metadata": {},
   "outputs": [],
   "source": [
    "#creating a vectorizer based on genre list to train the model\n",
    "tfidf = text.TfidfVectorizer(input = genre_list , stop_words = \"english\")\n",
    "tfidf"
   ]
  },
  {
   "cell_type": "code",
   "execution_count": null,
   "id": "9a6b00a6",
   "metadata": {},
   "outputs": [],
   "source": [
    "#Training the model using fit transform\n",
    "\n",
    "tfidf_matrix = tfidf.fit_transform(genre_list)\n",
    "tfidf_matrix"
   ]
  },
  {
   "cell_type": "code",
   "execution_count": null,
   "id": "e42e2ae2",
   "metadata": {},
   "outputs": [],
   "source": [
    "#checks similar values and returns a higher value if matches\n",
    "similarity = cosine_similarity(tfidf_matrix)\n",
    "similarity"
   ]
  },
  {
   "cell_type": "code",
   "execution_count": null,
   "id": "bad0000d",
   "metadata": {},
   "outputs": [],
   "source": [
    "#assigning each title to a index by eliminating duplicates\n",
    "indices = pd.Series(modified_data.index, index = modified_data['Title']).drop_duplicates()\n",
    "print(indices)"
   ]
  },
  {
   "cell_type": "code",
   "execution_count": null,
   "id": "da984f6a",
   "metadata": {},
   "outputs": [],
   "source": [
    "#recommendation algorithm for top 10 similar movies sorted by similarity scores of genres\n",
    "\n",
    "def netflix_recommendation(title, similarity = similarity):\n",
    "    index = indices[title]\n",
    "    similarity_scores = list(enumerate(similarity[index]))\n",
    "    similarity_scores = sorted(similarity_scores, key=lambda x: x[1], reverse=True)\n",
    "    \n",
    "    similarity_scores = similarity_scores[60:90]\n",
    "    print(similarity_scores)\n",
    "    movieindices = [i[0] for i in similarity_scores]\n",
    "    return modified_data['Title'].iloc[movieindices]\n",
    "                               \n",
    "print(netflix_recommendation(\"girlfriend\"))\n",
    "                               \n",
    "    "
   ]
  },
  {
   "cell_type": "code",
   "execution_count": null,
   "id": "552c0fb8",
   "metadata": {},
   "outputs": [],
   "source": []
  }
 ],
 "metadata": {
  "kernelspec": {
   "display_name": "Python 3 (ipykernel)",
   "language": "python",
   "name": "python3"
  },
  "language_info": {
   "codemirror_mode": {
    "name": "ipython",
    "version": 3
   },
   "file_extension": ".py",
   "mimetype": "text/x-python",
   "name": "python",
   "nbconvert_exporter": "python",
   "pygments_lexer": "ipython3",
   "version": "3.9.13"
  }
 },
 "nbformat": 4,
 "nbformat_minor": 5
}
